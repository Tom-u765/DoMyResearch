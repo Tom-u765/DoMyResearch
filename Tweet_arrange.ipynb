{
 "cells": [
  {
   "cell_type": "code",
   "execution_count": 46,
   "metadata": {},
   "outputs": [
    {
     "data": {
      "text/plain": [
       "'\\nRT @ham_sand_ieyasu: #鷺沢文香生誕祭2022\\n#鷺沢文香誕生祭2022\\n#鷺沢文香\\n#デレステAR\\n#デレスポAR\\n\\n文香、誕生日おめでとう🎉🎉🎉📕📗📘\\n撮影:1枚目、白鳥城内トリックアート（兵庫県）\\n2枚目:箱根彫刻の森美術館（神奈川県） https:/…\\n'"
      ]
     },
     "execution_count": 46,
     "metadata": {},
     "output_type": "execute_result"
    }
   ],
   "source": [
    "\"\"\"\n",
    "RT @ham_sand_ieyasu: #鷺沢文香生誕祭2022\n",
    "#鷺沢文香誕生祭2022\n",
    "#鷺沢文香\n",
    "#デレステAR\n",
    "#デレスポAR\n",
    "\n",
    "文香、誕生日おめでとう🎉🎉🎉📕📗📘\n",
    "撮影:1枚目、白鳥城内トリックアート（兵庫県）\n",
    "2枚目:箱根彫刻の森美術館（神奈川県） https:/…\n",
    "\"\"\""
   ]
  },
  {
   "cell_type": "code",
   "execution_count": 47,
   "metadata": {},
   "outputs": [
    {
     "data": {
      "text/html": [
       "<div>\n",
       "<style scoped>\n",
       "    .dataframe tbody tr th:only-of-type {\n",
       "        vertical-align: middle;\n",
       "    }\n",
       "\n",
       "    .dataframe tbody tr th {\n",
       "        vertical-align: top;\n",
       "    }\n",
       "\n",
       "    .dataframe thead th {\n",
       "        text-align: right;\n",
       "    }\n",
       "</style>\n",
       "<table border=\"1\" class=\"dataframe\">\n",
       "  <thead>\n",
       "    <tr style=\"text-align: right;\">\n",
       "      <th></th>\n",
       "      <th>ツイートID</th>\n",
       "      <th>ツイート時刻</th>\n",
       "      <th>ツイート内容</th>\n",
       "      <th>いいね数</th>\n",
       "      <th>リツイート数</th>\n",
       "      <th>ID</th>\n",
       "      <th>ユーザID</th>\n",
       "      <th>アカウント名</th>\n",
       "      <th>自己紹介文</th>\n",
       "      <th>フォロー数</th>\n",
       "      <th>フォロワー数</th>\n",
       "      <th>アカウント作成日時</th>\n",
       "      <th>自分がフォローしているか？</th>\n",
       "      <th>アイコン画像URL</th>\n",
       "      <th>ヘッダー画像URL</th>\n",
       "      <th>WEBサイト</th>\n",
       "    </tr>\n",
       "  </thead>\n",
       "  <tbody>\n",
       "    <tr>\n",
       "      <th>0</th>\n",
       "      <td>1585426981604429824</td>\n",
       "      <td>2022-10-27_09:23:42</td>\n",
       "      <td>RT @ham_sand_ieyasu: #鷺沢文香生誕祭2022\\n#鷺沢文香誕生祭202...</td>\n",
       "      <td>0</td>\n",
       "      <td>11</td>\n",
       "      <td>851429784307421184</td>\n",
       "      <td>ham_sand_ieyasu</td>\n",
       "      <td>スズカゲ</td>\n",
       "      <td>ポケモンかデレステか野球か歴史か酒の話する垢。戦国時代好き（戦国乙女含む）。山県昌景派/徳川...</td>\n",
       "      <td>1134</td>\n",
       "      <td>1144</td>\n",
       "      <td>2017-04-10_22:40:54</td>\n",
       "      <td>False</td>\n",
       "      <td>http://pbs.twimg.com/profile_images/1584565339...</td>\n",
       "      <td>NaN</td>\n",
       "      <td>NaN</td>\n",
       "    </tr>\n",
       "    <tr>\n",
       "      <th>1</th>\n",
       "      <td>1585407132890865672</td>\n",
       "      <td>2022-10-27_08:04:50</td>\n",
       "      <td>RT @yui_journey: 行ってよかった美術館ランキング\\n\\n1位\\n2位　三鷹の...</td>\n",
       "      <td>0</td>\n",
       "      <td>2837</td>\n",
       "      <td>1382489728776228864</td>\n",
       "      <td>yui_journey</td>\n",
       "      <td>ゆい｜海運女子</td>\n",
       "      <td>世界を旅する大手貿易会社の秘書｜知らないと損する旅のバイブル｜日本・海外の絶景 ×ルール×文...</td>\n",
       "      <td>297</td>\n",
       "      <td>13316</td>\n",
       "      <td>2021-04-15_09:23:49</td>\n",
       "      <td>False</td>\n",
       "      <td>http://pbs.twimg.com/profile_images/1580690735...</td>\n",
       "      <td>NaN</td>\n",
       "      <td>NaN</td>\n",
       "    </tr>\n",
       "    <tr>\n",
       "      <th>2</th>\n",
       "      <td>1585391860977397760</td>\n",
       "      <td>2022-10-27_07:04:09</td>\n",
       "      <td>RT @ham_sand_ieyasu: #鷺沢文香生誕祭2022\\n#鷺沢文香誕生祭202...</td>\n",
       "      <td>0</td>\n",
       "      <td>11</td>\n",
       "      <td>1082579866241753088</td>\n",
       "      <td>7thgalaxyH</td>\n",
       "      <td>そりゃ…お前</td>\n",
       "      <td>主に京都や関西の風景をデレステARで撮影。 ARメインでやっています。 加蓮🍟 よしのん🐚 ...</td>\n",
       "      <td>1154</td>\n",
       "      <td>1066</td>\n",
       "      <td>2019-01-08_19:08:48</td>\n",
       "      <td>False</td>\n",
       "      <td>http://pbs.twimg.com/profile_images/1508678027...</td>\n",
       "      <td>http://abs.twimg.com/images/themes/theme1/bg.png</td>\n",
       "      <td>NaN</td>\n",
       "    </tr>\n",
       "    <tr>\n",
       "      <th>3</th>\n",
       "      <td>1585391510023213057</td>\n",
       "      <td>2022-10-27_07:02:45</td>\n",
       "      <td>RT @ham_sand_ieyasu: #鷺沢文香生誕祭2022\\n#鷺沢文香誕生祭202...</td>\n",
       "      <td>0</td>\n",
       "      <td>11</td>\n",
       "      <td>1305754701858701312</td>\n",
       "      <td>borabora_kr</td>\n",
       "      <td>ぼらぼら</td>\n",
       "      <td>主にデレステ、艦これをのんびりやってます。しゅがは、桃華ちゃん、雪美ちゃん、こずえちゃん、仁...</td>\n",
       "      <td>368</td>\n",
       "      <td>348</td>\n",
       "      <td>2020-09-15_15:29:52</td>\n",
       "      <td>False</td>\n",
       "      <td>http://pbs.twimg.com/profile_images/1515454056...</td>\n",
       "      <td>NaN</td>\n",
       "      <td>NaN</td>\n",
       "    </tr>\n",
       "    <tr>\n",
       "      <th>4</th>\n",
       "      <td>1585383215489253377</td>\n",
       "      <td>2022-10-27_06:29:48</td>\n",
       "      <td>RT @ham_sand_ieyasu: #鷺沢文香生誕祭2022\\n#鷺沢文香誕生祭202...</td>\n",
       "      <td>0</td>\n",
       "      <td>11</td>\n",
       "      <td>1367135881</td>\n",
       "      <td>elckski</td>\n",
       "      <td>エリチカスキー</td>\n",
       "      <td>旅行、サッカー、野球(虎)、艦これ、デレステ、ウマ娘が大好きです。榛名提督兼三船美優担当兼グ...</td>\n",
       "      <td>896</td>\n",
       "      <td>646</td>\n",
       "      <td>2013-04-20_23:08:56</td>\n",
       "      <td>False</td>\n",
       "      <td>http://pbs.twimg.com/profile_images/1348553977...</td>\n",
       "      <td>http://abs.twimg.com/images/themes/theme1/bg.png</td>\n",
       "      <td>NaN</td>\n",
       "    </tr>\n",
       "    <tr>\n",
       "      <th>...</th>\n",
       "      <td>...</td>\n",
       "      <td>...</td>\n",
       "      <td>...</td>\n",
       "      <td>...</td>\n",
       "      <td>...</td>\n",
       "      <td>...</td>\n",
       "      <td>...</td>\n",
       "      <td>...</td>\n",
       "      <td>...</td>\n",
       "      <td>...</td>\n",
       "      <td>...</td>\n",
       "      <td>...</td>\n",
       "      <td>...</td>\n",
       "      <td>...</td>\n",
       "      <td>...</td>\n",
       "      <td>...</td>\n",
       "    </tr>\n",
       "    <tr>\n",
       "      <th>1659</th>\n",
       "      <td>1582240550777868288</td>\n",
       "      <td>2022-10-18_14:21:58</td>\n",
       "      <td>彫刻の森美術館🖼 https://t.co/sGDz6SKlfN</td>\n",
       "      <td>11</td>\n",
       "      <td>0</td>\n",
       "      <td>1508447834260983810</td>\n",
       "      <td>LoveAffa1r_</td>\n",
       "      <td>らぶあふぇ聴けた女</td>\n",
       "      <td>NaN</td>\n",
       "      <td>115</td>\n",
       "      <td>134</td>\n",
       "      <td>2022-03-28_23:16:11</td>\n",
       "      <td>False</td>\n",
       "      <td>http://pbs.twimg.com/profile_images/1578317228...</td>\n",
       "      <td>NaN</td>\n",
       "      <td>NaN</td>\n",
       "    </tr>\n",
       "    <tr>\n",
       "      <th>1660</th>\n",
       "      <td>1582238048716460032</td>\n",
       "      <td>2022-10-18_14:12:02</td>\n",
       "      <td>実母が九州から遊びに来てたので、箱根やら横浜やらに行って楽しかったー！娘も楽しんでたし、よか...</td>\n",
       "      <td>1</td>\n",
       "      <td>0</td>\n",
       "      <td>1416873352409489409</td>\n",
       "      <td>suminofu0707</td>\n",
       "      <td>スミノフ☺︎︎︎︎</td>\n",
       "      <td>0歳児育児中！ 風の吹くまま気の向くまま。ｱｶﾁｬﾝとの生活も旅をするように生きる。</td>\n",
       "      <td>169</td>\n",
       "      <td>52</td>\n",
       "      <td>2021-07-19_06:32:03</td>\n",
       "      <td>False</td>\n",
       "      <td>http://pbs.twimg.com/profile_images/1416873502...</td>\n",
       "      <td>NaN</td>\n",
       "      <td>NaN</td>\n",
       "    </tr>\n",
       "    <tr>\n",
       "      <th>1661</th>\n",
       "      <td>1582234990678376448</td>\n",
       "      <td>2022-10-18_13:59:52</td>\n",
       "      <td>RT @Yu_0126_Yu: チビたちを病院に連れて行くため、午後お休みいただいて帰宅(´...</td>\n",
       "      <td>0</td>\n",
       "      <td>1</td>\n",
       "      <td>1562623223384412160</td>\n",
       "      <td>Luxtech_PR</td>\n",
       "      <td>あき @ 活動者応援垢</td>\n",
       "      <td>配信者として自身以外に応援する手段がないか模索して、このアカウントを作りました。\\n頑張って...</td>\n",
       "      <td>4291</td>\n",
       "      <td>1818</td>\n",
       "      <td>2022-08-25_11:10:25</td>\n",
       "      <td>False</td>\n",
       "      <td>http://pbs.twimg.com/profile_images/1563525419...</td>\n",
       "      <td>NaN</td>\n",
       "      <td>https://t.co/mRTKrOBYfW</td>\n",
       "    </tr>\n",
       "    <tr>\n",
       "      <th>1662</th>\n",
       "      <td>1582234753352470528</td>\n",
       "      <td>2022-10-18_13:58:56</td>\n",
       "      <td>チビたちを病院に連れて行くため、午後お休みいただいて帰宅(´・ω・)\\n\\n平熱で元気にあそ...</td>\n",
       "      <td>12</td>\n",
       "      <td>1</td>\n",
       "      <td>1553593645634187265</td>\n",
       "      <td>Yu_0126_Yu</td>\n",
       "      <td>ゆ</td>\n",
       "      <td>Canon EOS R / RF 15-30mm / 50mm /  神奈川のド西部が生息地...</td>\n",
       "      <td>165</td>\n",
       "      <td>107</td>\n",
       "      <td>2022-07-31_13:09:35</td>\n",
       "      <td>False</td>\n",
       "      <td>http://pbs.twimg.com/profile_images/1553736250...</td>\n",
       "      <td>NaN</td>\n",
       "      <td>https://t.co/U1r3ZuHlMe</td>\n",
       "    </tr>\n",
       "    <tr>\n",
       "      <th>1663</th>\n",
       "      <td>1582217798356697088</td>\n",
       "      <td>2022-10-18_12:51:33</td>\n",
       "      <td>箱根彫刻の森美術館すぐ近く。\\n\\n元祖カツカレーのお店「おもと」\\n創業1963年\\n\\n...</td>\n",
       "      <td>3</td>\n",
       "      <td>0</td>\n",
       "      <td>1561064846099382273</td>\n",
       "      <td>fuwafuwa520</td>\n",
       "      <td>武田なみ🐏心と身体を癒す人</td>\n",
       "      <td>疲れた時は どうぞひと休みにいらしてくださいね🌿ご予約・お問い合わせはDMからも承っておりま...</td>\n",
       "      <td>113</td>\n",
       "      <td>116</td>\n",
       "      <td>2022-08-21_03:57:29</td>\n",
       "      <td>False</td>\n",
       "      <td>http://pbs.twimg.com/profile_images/1584529417...</td>\n",
       "      <td>NaN</td>\n",
       "      <td>NaN</td>\n",
       "    </tr>\n",
       "  </tbody>\n",
       "</table>\n",
       "<p>1664 rows × 16 columns</p>\n",
       "</div>"
      ],
      "text/plain": [
       "                   ツイートID               ツイート時刻  \\\n",
       "0     1585426981604429824  2022-10-27_09:23:42   \n",
       "1     1585407132890865672  2022-10-27_08:04:50   \n",
       "2     1585391860977397760  2022-10-27_07:04:09   \n",
       "3     1585391510023213057  2022-10-27_07:02:45   \n",
       "4     1585383215489253377  2022-10-27_06:29:48   \n",
       "...                   ...                  ...   \n",
       "1659  1582240550777868288  2022-10-18_14:21:58   \n",
       "1660  1582238048716460032  2022-10-18_14:12:02   \n",
       "1661  1582234990678376448  2022-10-18_13:59:52   \n",
       "1662  1582234753352470528  2022-10-18_13:58:56   \n",
       "1663  1582217798356697088  2022-10-18_12:51:33   \n",
       "\n",
       "                                                 ツイート内容  いいね数  リツイート数  \\\n",
       "0     RT @ham_sand_ieyasu: #鷺沢文香生誕祭2022\\n#鷺沢文香誕生祭202...     0      11   \n",
       "1     RT @yui_journey: 行ってよかった美術館ランキング\\n\\n1位\\n2位　三鷹の...     0    2837   \n",
       "2     RT @ham_sand_ieyasu: #鷺沢文香生誕祭2022\\n#鷺沢文香誕生祭202...     0      11   \n",
       "3     RT @ham_sand_ieyasu: #鷺沢文香生誕祭2022\\n#鷺沢文香誕生祭202...     0      11   \n",
       "4     RT @ham_sand_ieyasu: #鷺沢文香生誕祭2022\\n#鷺沢文香誕生祭202...     0      11   \n",
       "...                                                 ...   ...     ...   \n",
       "1659                   彫刻の森美術館🖼 https://t.co/sGDz6SKlfN    11       0   \n",
       "1660  実母が九州から遊びに来てたので、箱根やら横浜やらに行って楽しかったー！娘も楽しんでたし、よか...     1       0   \n",
       "1661  RT @Yu_0126_Yu: チビたちを病院に連れて行くため、午後お休みいただいて帰宅(´...     0       1   \n",
       "1662  チビたちを病院に連れて行くため、午後お休みいただいて帰宅(´・ω・)\\n\\n平熱で元気にあそ...    12       1   \n",
       "1663  箱根彫刻の森美術館すぐ近く。\\n\\n元祖カツカレーのお店「おもと」\\n創業1963年\\n\\n...     3       0   \n",
       "\n",
       "                       ID            ユーザID         アカウント名  \\\n",
       "0      851429784307421184  ham_sand_ieyasu           スズカゲ   \n",
       "1     1382489728776228864      yui_journey        ゆい｜海運女子   \n",
       "2     1082579866241753088       7thgalaxyH         そりゃ…お前   \n",
       "3     1305754701858701312      borabora_kr           ぼらぼら   \n",
       "4              1367135881          elckski        エリチカスキー   \n",
       "...                   ...              ...            ...   \n",
       "1659  1508447834260983810      LoveAffa1r_      らぶあふぇ聴けた女   \n",
       "1660  1416873352409489409     suminofu0707      スミノフ☺︎︎︎︎   \n",
       "1661  1562623223384412160       Luxtech_PR    あき @ 活動者応援垢   \n",
       "1662  1553593645634187265       Yu_0126_Yu              ゆ   \n",
       "1663  1561064846099382273      fuwafuwa520  武田なみ🐏心と身体を癒す人   \n",
       "\n",
       "                                                  自己紹介文  フォロー数  フォロワー数  \\\n",
       "0     ポケモンかデレステか野球か歴史か酒の話する垢。戦国時代好き（戦国乙女含む）。山県昌景派/徳川...   1134    1144   \n",
       "1     世界を旅する大手貿易会社の秘書｜知らないと損する旅のバイブル｜日本・海外の絶景 ×ルール×文...    297   13316   \n",
       "2     主に京都や関西の風景をデレステARで撮影。 ARメインでやっています。 加蓮🍟 よしのん🐚 ...   1154    1066   \n",
       "3     主にデレステ、艦これをのんびりやってます。しゅがは、桃華ちゃん、雪美ちゃん、こずえちゃん、仁...    368     348   \n",
       "4     旅行、サッカー、野球(虎)、艦これ、デレステ、ウマ娘が大好きです。榛名提督兼三船美優担当兼グ...    896     646   \n",
       "...                                                 ...    ...     ...   \n",
       "1659                                                NaN    115     134   \n",
       "1660         0歳児育児中！ 風の吹くまま気の向くまま。ｱｶﾁｬﾝとの生活も旅をするように生きる。    169      52   \n",
       "1661  配信者として自身以外に応援する手段がないか模索して、このアカウントを作りました。\\n頑張って...   4291    1818   \n",
       "1662  Canon EOS R / RF 15-30mm / 50mm /  神奈川のド西部が生息地...    165     107   \n",
       "1663  疲れた時は どうぞひと休みにいらしてくださいね🌿ご予約・お問い合わせはDMからも承っておりま...    113     116   \n",
       "\n",
       "                アカウント作成日時  自分がフォローしているか？  \\\n",
       "0     2017-04-10_22:40:54          False   \n",
       "1     2021-04-15_09:23:49          False   \n",
       "2     2019-01-08_19:08:48          False   \n",
       "3     2020-09-15_15:29:52          False   \n",
       "4     2013-04-20_23:08:56          False   \n",
       "...                   ...            ...   \n",
       "1659  2022-03-28_23:16:11          False   \n",
       "1660  2021-07-19_06:32:03          False   \n",
       "1661  2022-08-25_11:10:25          False   \n",
       "1662  2022-07-31_13:09:35          False   \n",
       "1663  2022-08-21_03:57:29          False   \n",
       "\n",
       "                                              アイコン画像URL  \\\n",
       "0     http://pbs.twimg.com/profile_images/1584565339...   \n",
       "1     http://pbs.twimg.com/profile_images/1580690735...   \n",
       "2     http://pbs.twimg.com/profile_images/1508678027...   \n",
       "3     http://pbs.twimg.com/profile_images/1515454056...   \n",
       "4     http://pbs.twimg.com/profile_images/1348553977...   \n",
       "...                                                 ...   \n",
       "1659  http://pbs.twimg.com/profile_images/1578317228...   \n",
       "1660  http://pbs.twimg.com/profile_images/1416873502...   \n",
       "1661  http://pbs.twimg.com/profile_images/1563525419...   \n",
       "1662  http://pbs.twimg.com/profile_images/1553736250...   \n",
       "1663  http://pbs.twimg.com/profile_images/1584529417...   \n",
       "\n",
       "                                             ヘッダー画像URL  \\\n",
       "0                                                  NaN   \n",
       "1                                                  NaN   \n",
       "2     http://abs.twimg.com/images/themes/theme1/bg.png   \n",
       "3                                                  NaN   \n",
       "4     http://abs.twimg.com/images/themes/theme1/bg.png   \n",
       "...                                                ...   \n",
       "1659                                               NaN   \n",
       "1660                                               NaN   \n",
       "1661                                               NaN   \n",
       "1662                                               NaN   \n",
       "1663                                               NaN   \n",
       "\n",
       "                       WEBサイト  \n",
       "0                         NaN  \n",
       "1                         NaN  \n",
       "2                         NaN  \n",
       "3                         NaN  \n",
       "4                         NaN  \n",
       "...                       ...  \n",
       "1659                      NaN  \n",
       "1660                      NaN  \n",
       "1661  https://t.co/mRTKrOBYfW  \n",
       "1662  https://t.co/U1r3ZuHlMe  \n",
       "1663                      NaN  \n",
       "\n",
       "[1664 rows x 16 columns]"
      ]
     },
     "execution_count": 47,
     "metadata": {},
     "output_type": "execute_result"
    }
   ],
   "source": [
    "import pandas as pd\n",
    "\n",
    "\n",
    "df = pd.read_csv('/Users/hoteison/Desktop/tweet_data_1000.csv')\n",
    "df"
   ]
  },
  {
   "cell_type": "code",
   "execution_count": 48,
   "metadata": {},
   "outputs": [
    {
     "data": {
      "text/plain": [
       "'RT @ham_sand_ieyasu: #鷺沢文香生誕祭2022\\n#鷺沢文香誕生祭2022\\n#鷺沢文香\\n#デレステAR\\n#デレスポAR\\n\\n文香、誕生日おめでとう🎉🎉🎉📕📗📘\\n撮影:1枚目、白鳥城内トリックアート（兵庫県）\\n2枚目:箱根彫刻の森美術館（神奈川県） https:/…'"
      ]
     },
     "execution_count": 48,
     "metadata": {},
     "output_type": "execute_result"
    }
   ],
   "source": [
    "tex = df.iat[0,2]\n",
    "tex"
   ]
  },
  {
   "cell_type": "code",
   "execution_count": 49,
   "metadata": {},
   "outputs": [
    {
     "data": {
      "text/plain": [
       "'RT @ham_sand_ieyasu: #鷺沢文香生誕祭2022\\n#鷺沢文香誕生祭2022\\n#鷺沢文香\\n#デレステAR\\n#デレスポAR\\n\\n文香、誕生日おめでとう🎉🎉🎉📕📗📘\\n撮影:1枚目、白鳥城内トリックアート（兵庫県）\\n2枚目:箱根彫刻の森美術館（神奈川県） https:/…'"
      ]
     },
     "execution_count": 49,
     "metadata": {},
     "output_type": "execute_result"
    }
   ],
   "source": [
    "tex"
   ]
  },
  {
   "cell_type": "code",
   "execution_count": 50,
   "metadata": {},
   "outputs": [],
   "source": [
    "# f = open('test.txt', 'w')\n",
    "# f.write(tex)\n",
    "# f.close()"
   ]
  },
  {
   "cell_type": "code",
   "execution_count": 51,
   "metadata": {},
   "outputs": [],
   "source": [
    "# import re\n",
    "\n",
    "# with open('test.txt', 'r') as f:\n",
    "#     for line in f:\n",
    "\n",
    "#         pattern1 = re.compile(r'RT.+:')\n",
    "#         result1 = pattern1.sub(' ', line)\n",
    "#         pattern2 = re.compile(r'http.+')\n",
    "#         result2 = pattern2.sub(' ', result1)\n",
    "#         with open('output.txt', 'a') as ff:\n",
    "#             ff.write(result2)"
   ]
  },
  {
   "cell_type": "code",
   "execution_count": 52,
   "metadata": {},
   "outputs": [
    {
     "data": {
      "text/plain": [
       "'\\nRT @ham_sand_ieyasu: #鷺沢文香生誕祭2022\\n#鷺沢文香誕生祭2022\\n#鷺沢文香\\n#デレステAR\\n#デレスポAR\\n\\n文香、誕生日おめでとう🎉🎉🎉📕📗📘\\n撮影:1枚目、白鳥城内トリックアート（兵庫県）\\n2枚目:箱根彫刻の森美術館（神奈川県） https:/…\\n'"
      ]
     },
     "execution_count": 52,
     "metadata": {},
     "output_type": "execute_result"
    }
   ],
   "source": [
    "\"\"\"\n",
    "RT @ham_sand_ieyasu: #鷺沢文香生誕祭2022\n",
    "#鷺沢文香誕生祭2022\n",
    "#鷺沢文香\n",
    "#デレステAR\n",
    "#デレスポAR\n",
    "\n",
    "文香、誕生日おめでとう🎉🎉🎉📕📗📘\n",
    "撮影:1枚目、白鳥城内トリックアート（兵庫県）\n",
    "2枚目:箱根彫刻の森美術館（神奈川県） https:/…\n",
    "\"\"\""
   ]
  },
  {
   "cell_type": "code",
   "execution_count": 53,
   "metadata": {},
   "outputs": [
    {
     "data": {
      "text/plain": [
       "'\\nRT @yui_journey: 行ってよかった美術館ランキング\\n\\n1位\\n2位\\u3000三鷹の森ジブリ美術館/東京\\n3位\\u3000箱根彫刻の森美術館/神奈川\\n4位\\u3000国立西洋美術館/東京\\n5位\\u3000デジタルアートミュージアム /東京\\n6位\\u3000国立新美術館/東京\\n6位\\u3000森美術館/東京\\n8位\\u3000砂の美術館/…\\n'"
      ]
     },
     "execution_count": 53,
     "metadata": {},
     "output_type": "execute_result"
    }
   ],
   "source": [
    "\"\"\"\n",
    "RT @yui_journey: 行ってよかった美術館ランキング\n",
    "\n",
    "1位\n",
    "2位　三鷹の森ジブリ美術館/東京\n",
    "3位　箱根彫刻の森美術館/神奈川\n",
    "4位　国立西洋美術館/東京\n",
    "5位　デジタルアートミュージアム /東京\n",
    "6位　国立新美術館/東京\n",
    "6位　森美術館/東京\n",
    "8位　砂の美術館/…\n",
    "\"\"\""
   ]
  },
  {
   "cell_type": "code",
   "execution_count": 63,
   "metadata": {},
   "outputs": [
    {
     "data": {
      "text/plain": [
       "'\\nこのようなテキストに対して、\\n1. RT...@aaabb:\\n2.http.....\\n3.\\n\\nなどの本文以外の情報を削除して、形態素解析につなげたい。\\n'"
      ]
     },
     "execution_count": 63,
     "metadata": {},
     "output_type": "execute_result"
    }
   ],
   "source": [
    "tex = df.iat[18,2]\n",
    "\n",
    "# 'おつかのん💓\\n今日はお仕事早めに終わったので\\nお勉強します😆😆\\n普段携わっている業務分野の勉強は\\n理解しやすくて楽しいです😊😊\\n写真はこの前行った彫刻の森美術館です😚\\nキラキラが大好きな片瀬にはたまらない空間でした！😇… https://t.co/YHg1FfFwog'\n",
    "\"\"\"\n",
    "このようなテキストに対して、\n",
    "1. RT...@aaabb:\n",
    "2.http.....\n",
    "3.\\n\n",
    "などの本文以外の情報を削除して、形態素解析につなげたい。\n",
    "\"\"\""
   ]
  },
  {
   "cell_type": "code",
   "execution_count": null,
   "metadata": {},
   "outputs": [],
   "source": [
    "#http.+\\w　："
   ]
  },
  {
   "cell_type": "code",
   "execution_count": 64,
   "metadata": {},
   "outputs": [
    {
     "data": {
      "text/plain": [
       "'おつかのん💓\\n今日はお仕事早めに終わったので\\nお勉強します😆😆\\n普段携わっている業務分野の勉強は\\n理解しやすくて楽しいです😊😊\\n写真はこの前行った彫刻の森美術館です😚\\nキラキラが大好きな片瀬にはたまらない空間でした！😇… https://t.co/YHg1FfFwog'"
      ]
     },
     "execution_count": 64,
     "metadata": {},
     "output_type": "execute_result"
    }
   ],
   "source": [
    "tex"
   ]
  },
  {
   "cell_type": "code",
   "execution_count": 68,
   "metadata": {},
   "outputs": [
    {
     "name": "stdout",
     "output_type": "stream",
     "text": [
      "おつかのん💓今日はお仕事早めに終わったのでお勉強します😆😆普段携わっている業務分野の勉強は理解しやすくて楽しいです😊😊写真はこの前行った彫刻の森美術館です😚キラキラが大好きな片瀬にはたまらない空間でした！😇…  \n"
     ]
    }
   ],
   "source": [
    "pattern1 = re.compile(r'RT.+:')    #RTから：までを取得する正規表現\n",
    "result1 = pattern1.sub(' ', tex)\n",
    "pattern2 = re.compile(r'http.+\\w') #ひらがな、カタカナ以外が続く間取得する正規表現\n",
    "result2 = pattern2.sub(' ', result1)\n",
    "result2 = result2.replace('\\n', '')\n",
    "print(result2)\n",
    "\n",
    "# やりたいことはできた、これを別のCSVにユーザー名などと一緒に貼り付けるだけでOK"
   ]
  },
  {
   "cell_type": "code",
   "execution_count": null,
   "metadata": {},
   "outputs": [],
   "source": []
  }
 ],
 "metadata": {
  "kernelspec": {
   "display_name": "Python 3.9.12 ('py39')",
   "language": "python",
   "name": "python3"
  },
  "language_info": {
   "codemirror_mode": {
    "name": "ipython",
    "version": 3
   },
   "file_extension": ".py",
   "mimetype": "text/x-python",
   "name": "python",
   "nbconvert_exporter": "python",
   "pygments_lexer": "ipython3",
   "version": "3.9.12"
  },
  "orig_nbformat": 4,
  "vscode": {
   "interpreter": {
    "hash": "4e7e9f53a7e16853fec103b312bead0c8fac62e8daa5be37d711e7d09c796e8b"
   }
  }
 },
 "nbformat": 4,
 "nbformat_minor": 2
}
