{
 "cells": [
  {
   "cell_type": "code",
   "execution_count": 1,
   "metadata": {},
   "outputs": [],
   "source": [
    "import io\n",
    "from google.cloud import vision\n",
    "\n",
    "os.environ['GOOGLE_APPLICATION_CREDENTIALS'] = '/Users/hoteison/Desktop/brave-scanner-281003-6d4f42654409.json'\n",
    "\n",
    "client = vision.ImageAnnotatorClient()\n",
    "with io.open('/Users/hoteison/Desktop/hakone-tourist-attractions_thumb.jpg', 'rb') as image_file:\n",
    "    content = image_file.read()\n",
    "image = vision.Image(content=content)\n",
    "\n",
    "response = client.text_detection(image=image)\n",
    "\n",
    "texts = response.text_annotations\n",
    "\n",
    "for text in texts:\n",
    "    print(text.description)"
   ]
  },
  {
   "cell_type": "code",
   "execution_count": 2,
   "metadata": {},
   "outputs": [
    {
     "name": "stdout",
     "output_type": "stream",
     "text": [
      "検証タイプ：景色\n",
      "Labels:\n",
      "Water\n",
      "Mountain\n",
      "Sky\n",
      "Natural landscape\n",
      "Plant\n",
      "Highland\n",
      "Lake\n",
      "Biome\n",
      "Bank\n",
      "Tree\n"
     ]
    }
   ],
   "source": [
    "# https://www.ritolab.com/entry/239\n",
    "\n",
    "import io\n",
    "import os\n",
    "\n",
    "from google.cloud import vision\n",
    "\n",
    "def label_detection(image):\n",
    "    # ラベル検出\n",
    "    response = client.label_detection(image=image)\n",
    "    labels = response.label_annotations\n",
    "\n",
    "    print('Labels:')\n",
    "    for label in labels:\n",
    "        print(label.description)\n",
    "\n",
    "image_list = [\n",
    "    {\n",
    "        'type': '俺',\n",
    "        'file_name': '/Users/hoteison/Library/Mobile Documents/com~apple~CloudDocs/24卒/pic2024.JPG',\n",
    "        'type': '景色',\n",
    "        'file_name': '/Users/hoteison/Desktop/hakone-tourist-attractions_thumb.jpg'\n",
    "\n",
    "    },\n",
    "]\n",
    "\n",
    "client = vision.ImageAnnotatorClient()\n",
    "\n",
    "for im in image_list:\n",
    "    print('検証タイプ：' + im['type'])\n",
    "\n",
    "    # file_name = os.path.abspath('resources/animals/' + im['file_name'])\n",
    "    file_name = \"/Users/hoteison/Desktop/hakone-tourist-attractions_thumb.jpg\"\n",
    "\n",
    "    with io.open(file_name, 'rb') as image_file:\n",
    "        content = image_file.read()\n",
    "\n",
    "    image = vision.Image(content=content)\n",
    "\n",
    "    label_detection(image)"
   ]
  }
 ],
 "metadata": {
  "kernelspec": {
   "display_name": "Python 3.9.12 ('py39')",
   "language": "python",
   "name": "python3"
  },
  "language_info": {
   "codemirror_mode": {
    "name": "ipython",
    "version": 3
   },
   "file_extension": ".py",
   "mimetype": "text/x-python",
   "name": "python",
   "nbconvert_exporter": "python",
   "pygments_lexer": "ipython3",
   "version": "3.9.12"
  },
  "orig_nbformat": 4,
  "vscode": {
   "interpreter": {
    "hash": "4e7e9f53a7e16853fec103b312bead0c8fac62e8daa5be37d711e7d09c796e8b"
   }
  }
 },
 "nbformat": 4,
 "nbformat_minor": 2
}
