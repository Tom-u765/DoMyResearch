{
 "cells": [
  {
   "cell_type": "code",
   "execution_count": 53,
   "metadata": {},
   "outputs": [],
   "source": [
    "#seleniumとbeautifulsoupをインポート\n",
    "import chromedriver_binary\n",
    "from selenium import webdriver\n",
    "from selenium import webdriver\n",
    "from webdriver_manager.chrome import ChromeDriverManager #追記\n",
    "import time\n",
    "from bs4 import BeautifulSoup\n",
    "import requests\n",
    "import bs4\n"
   ]
  },
  {
   "cell_type": "code",
   "execution_count": 54,
   "metadata": {},
   "outputs": [],
   "source": [
    "#Google Chromeのドライバを用意\n",
    "driver =   webdriver.Chrome(ChromeDriverManager().install()) #追記"
   ]
  },
  {
   "cell_type": "code",
   "execution_count": 55,
   "metadata": {},
   "outputs": [],
   "source": [
    "# #Google mapsを開く\n",
    "# url = 'https://www.google.co.jp/maps/dir//%E3%80%92169-0051+%E6%9D%B1%E4%BA%AC%E9%83%BD%E6%96%B0%E5%AE%BF%E5%8C%BA%E8%A5%BF%E6%97%A9%E7%A8%B2%E7%94%B0/@35.7100866,139.7124772,17z/data=!4m8!4m7!1m0!1m5!1m1!1s0x60188d198ce5377d:0x57bef3ff27922a10!2m2!1d139.7153917!2d35.7103883'\n",
    "# driver.get(url)\n",
    "\n",
    "# time.sleep(5)"
   ]
  },
  {
   "cell_type": "code",
   "execution_count": 56,
   "metadata": {},
   "outputs": [],
   "source": [
    "#Google mapsを開く\n",
    "url = 'https://www.google.co.jp/maps/dir///@35.7100866,139.7124772,17z'\n",
    "driver.get(url)\n",
    "\n",
    "time.sleep(5)"
   ]
  },
  {
   "cell_type": "code",
   "execution_count": 57,
   "metadata": {},
   "outputs": [],
   "source": [
    "#検索蘭にキーワードを記入\n",
    "keys1 = input(\"検索キーワード：\")\n",
    "keys2 = input(\"検索キーワード：\")\n",
    "\n",
    "#データ入力\n",
    "# id = driver.find_element_by_class_name(\"tactile-searchbox-input\")\n",
    "# id.send_keys(keys)\n",
    "\n",
    "id1 = driver.find_element_by_css_selector(\"#sb_ifc50 > input\")\n",
    "id1.send_keys(keys1)\n",
    "time.sleep(2)\n",
    "id2 = driver.find_element_by_css_selector(\"#sb_ifc51 > input\")\n",
    "id2.send_keys(keys2)\n",
    "time.sleep(2)\n",
    "id3 = driver.find_element_by_css_selector(\"#directions-searchbox-1 > button.mL3xi\")\n",
    "id3.click()\n",
    "\n",
    "time.sleep(10)"
   ]
  },
  {
   "cell_type": "markdown",
   "metadata": {},
   "source": [
    "https://zenn.dev/h_k92/articles/0776e6535bb234"
   ]
  },
  {
   "cell_type": "code",
   "execution_count": 58,
   "metadata": {},
   "outputs": [],
   "source": [
    "# #HTMLを解析\n",
    "# page_source = driver.page_source\n",
    "# soup = BeautifulSoup(page_source, 'html.parser')\n",
    "\n",
    "# #取得したい要素を取得\n",
    "# title = soup.find(class_=\"GLOBAL__gm2-headline-5 section-hero-header-title-title\")\n",
    "# link = soup.find_all(class_=\"section-info-text\")\n",
    "\n",
    "# #出力\n",
    "# print(\"-------------------------------\")\n",
    "# print(title.text.strip())\n",
    "# print(link[0].text.strip())\n",
    "# print(link[2].text.strip())\n",
    "# print(link[3].text.strip())\n",
    "# print(\"-------------------------------\")"
   ]
  },
  {
   "cell_type": "code",
   "execution_count": 59,
   "metadata": {},
   "outputs": [
    {
     "name": "stdout",
     "output_type": "stream",
     "text": [
      "########################\n",
      "[<selenium.webdriver.remote.webelement.WebElement (session=\"8ec7ca806e29f7685cf7bbe261dae35b\", element=\"0c543abe-03e2-4b9d-b337-c8281bf1bf9b\")>, <selenium.webdriver.remote.webelement.WebElement (session=\"8ec7ca806e29f7685cf7bbe261dae35b\", element=\"49969a1d-57a6-46d4-a7c9-04823349c4c3\")>, <selenium.webdriver.remote.webelement.WebElement (session=\"8ec7ca806e29f7685cf7bbe261dae35b\", element=\"9a4edca0-7dc4-4a2a-a4b8-e4f28408d536\")>, <selenium.webdriver.remote.webelement.WebElement (session=\"8ec7ca806e29f7685cf7bbe261dae35b\", element=\"38815ac2-b76c-4fe2-94ba-253c73277495\")>, <selenium.webdriver.remote.webelement.WebElement (session=\"8ec7ca806e29f7685cf7bbe261dae35b\", element=\"94de8b18-6063-4e94-a037-a89e8b939be0\")>, <selenium.webdriver.remote.webelement.WebElement (session=\"8ec7ca806e29f7685cf7bbe261dae35b\", element=\"f40ae72a-0ea0-4244-b8df-c45eb6693707\")>, <selenium.webdriver.remote.webelement.WebElement (session=\"8ec7ca806e29f7685cf7bbe261dae35b\", element=\"79b429dd-0051-49ab-83d8-98097b405b85\")>]\n",
      "------------\n",
      "0 円\n",
      "########################\n"
     ]
    }
   ],
   "source": [
    "#HTMLを解析\n",
    "from sys import path\n",
    "page_source = driver.page_source\n",
    "soup = BeautifulSoup(page_source, 'html.parser')\n",
    "\n",
    "# 徒歩のみ、徒歩以外、道路トラブルあり、道路トラブルなし　は同じレイヤの問題\n",
    "######################\n",
    "\n",
    "shortest_path_time = driver.find_elements_by_class_name(\"fontHeadlineSmall\")\n",
    "\n",
    "######################\n",
    "# コスト存在考慮\n",
    "try:\n",
    "    shortest_path_cost = driver.find_element_by_css_selector('#section-directions-trip-0 > div.MespJc > div:nth-child(2) > div.ue5qRc > span:nth-child(2)')\n",
    "    #道路トラブル考慮\n",
    "    try:\n",
    "        shortest_path_cost = driver.find_element_by_css_selector('#section-directions-trip-0 > div.MespJc > div:nth-child(2) > div.ue5qRc > span:nth-child(2)') #後で渋滞の時のセレクタを入れる\n",
    "    except:\n",
    "        shortest_path_cost = \"0 円\"    \n",
    "except:\n",
    "    shortest_path_cost = \"0 円\"\n",
    "\n",
    "#出力\n",
    "print(\"########################\")\n",
    "print(shortest_path_time)\n",
    "# print(shortest_path_time.text)\n",
    "print('------------')\n",
    "try:\n",
    "    print(shortest_path_cost.text)\n",
    "except:\n",
    "    print(shortest_path_cost)\n",
    "print(\"########################\")"
   ]
  },
  {
   "cell_type": "code",
   "execution_count": 60,
   "metadata": {},
   "outputs": [
    {
     "name": "stdout",
     "output_type": "stream",
     "text": [
      "1 時間 27 分\n",
      "首都高速５号池袋線/ルート 5 経由\n",
      "1 時間 26 分\n",
      "関越自動車道 経由\n",
      "1 時間 55 分\n",
      "14:19 - 16:14\n",
      "川越市周辺のスポット\n"
     ]
    }
   ],
   "source": [
    "for i in range(len(shortest_path_time)):\n",
    "    print(shortest_path_time[i].text)\n",
    "\n",
    "#最短経路の所要時間は[0]"
   ]
  },
  {
   "cell_type": "code",
   "execution_count": 61,
   "metadata": {},
   "outputs": [
    {
     "data": {
      "text/plain": [
       "'1 時間 27 分'"
      ]
     },
     "execution_count": 61,
     "metadata": {},
     "output_type": "execute_result"
    }
   ],
   "source": [
    "text1  = shortest_path_time[0].text\n",
    "text1"
   ]
  },
  {
   "cell_type": "code",
   "execution_count": 62,
   "metadata": {},
   "outputs": [
    {
     "data": {
      "text/plain": [
       "['1', '時間', '27', '分']"
      ]
     },
     "execution_count": 62,
     "metadata": {},
     "output_type": "execute_result"
    }
   ],
   "source": [
    "text1.split(' ')\n"
   ]
  },
  {
   "cell_type": "code",
   "execution_count": 66,
   "metadata": {},
   "outputs": [
    {
     "data": {
      "text/plain": [
       "4"
      ]
     },
     "execution_count": 66,
     "metadata": {},
     "output_type": "execute_result"
    }
   ],
   "source": [
    "len(text1.split(' '))"
   ]
  },
  {
   "cell_type": "code",
   "execution_count": null,
   "metadata": {},
   "outputs": [],
   "source": [
    "# データフレーム\n",
    "# ['トリップID', '出発地', '到着地', '最短所要時間(h)', '最短所要時間(min)', '最短所要コスト(円)', 最短所要時間(total_min)]\n",
    "\n",
    "if len(text1.split(' ')) == 4:\n",
    "    \n",
    "\n",
    "elif len(text1.split(' ')) == 2:\n",
    "    "
   ]
  },
  {
   "cell_type": "code",
   "execution_count": 63,
   "metadata": {},
   "outputs": [
    {
     "data": {
      "text/plain": [
       "'渋滞ありポイント以外同士\\n\\n'"
      ]
     },
     "execution_count": 63,
     "metadata": {},
     "output_type": "execute_result"
    }
   ],
   "source": [
    "# 実行結果\n",
    "\"\"\"渋滞なしポイント同士○\n",
    "\n",
    "百合丘駅ー仙台駅\n",
    "\n",
    "2 時間 50 分\n",
    "13:48 - 16:38\n",
    "2 時間 54 分\n",
    "13:57 - 16:51\n",
    "4 時間 37 分\n",
    "東北自動車道 経由\n",
    "仙台駅周辺のスポット\n",
    "\"\"\"\n",
    "###########################\n",
    "\"\"\"渋滞ありポイント同士\n",
    "\n",
    "\"\"\"\n",
    "###########################\n",
    "\"\"\"渋滞なしポイント以外同士○\n",
    "\n",
    "百合ストアー三和　百合丘\n",
    "\n",
    "6 分\n",
    "不明な道路経由\n",
    "6 分\n",
    "不明な道路経由\n",
    "6 分\n",
    "不明な道路経由\n",
    "\"\"\"\n",
    "###########################\n",
    "\"\"\"渋滞ありポイント以外同士\n",
    "\n",
    "\"\"\"\n"
   ]
  },
  {
   "cell_type": "code",
   "execution_count": 64,
   "metadata": {},
   "outputs": [
    {
     "data": {
      "text/plain": [
       "'\\n費用\\n渋滞あり：\\n渋滞なし：\\'#section-directions-trip-0 > div.MespJc > div:nth-child(2) > div.ue5qRc > span:nth-child(2)\\'\\n\\n所要時間\\n渋滞あり：\"#section-directions-trip-0 > div.MespJc > div:nth-child(1) > div.XdKEzd > div.Fk3sm.fontHeadlineSmall.delay-heavy > span:nth-child(1)\"\\n渋滞なし：\"#section-directions-trip-0 > div.MespJc > div:nth-child(2) > div.XdKEzd > div\"\\n渋滞なし徒歩のみ：\"#section-directions-trip-0 > div.MespJc > div:nth-child(3) > div.XdKEzd > div.Fk3sm.fontHeadlineSmall\"\\n\\n最短距離\\n\"#section-directions-trip-title-0\"\\n'"
      ]
     },
     "execution_count": 64,
     "metadata": {},
     "output_type": "execute_result"
    }
   ],
   "source": [
    "\"\"\"\n",
    "費用\n",
    "'#section-directions-trip-0 > div.MespJc > div:nth-child(2) > div.ue5qRc > span:nth-child(2)'\n",
    "\n",
    "所要時間\n",
    "渋滞あり：\"#section-directions-trip-0 > div.MespJc > div:nth-child(1) > div.XdKEzd > div.Fk3sm.fontHeadlineSmall.delay-heavy > span:nth-child(1)\"\n",
    "渋滞なし：\"#section-directions-trip-0 > div.MespJc > div:nth-child(2) > div.XdKEzd > div\"\n",
    "渋滞なし徒歩のみ：\"#section-directions-trip-0 > div.MespJc > div:nth-child(3) > div.XdKEzd > div.Fk3sm.fontHeadlineSmall\"\n",
    "\n",
    "最短距離\n",
    "\"#section-directions-trip-title-0\"\n",
    "\"\"\""
   ]
  },
  {
   "cell_type": "code",
   "execution_count": 65,
   "metadata": {},
   "outputs": [
    {
     "data": {
      "text/plain": [
       "'\\n\\n高田馬場駅ー西早稲田駅での結果 \\n\\n-------------------------------\\n<selenium.webdriver.remote.webelement.WebElement (session=\"3adbd974d8379b7c88efde987e14417e\", element=\"03e4facb-c955-4083-a449-987517c15490\")>\\n7 分\\n<selenium.webdriver.remote.webelement.WebElement (session=\"3adbd974d8379b7c88efde987e14417e\", element=\"c2fe9fc8-a64f-45d8-aa56-8f6cecac1880\")>\\n210 円\\n-------------------------------\\n'"
      ]
     },
     "execution_count": 65,
     "metadata": {},
     "output_type": "execute_result"
    }
   ],
   "source": [
    "\n",
    "\"\"\"\n",
    "\n",
    "高田馬場駅ー西早稲田駅での結果 \n",
    "\n",
    "-------------------------------\n",
    "<selenium.webdriver.remote.webelement.WebElement (session=\"3adbd974d8379b7c88efde987e14417e\", element=\"03e4facb-c955-4083-a449-987517c15490\")>\n",
    "7 分\n",
    "<selenium.webdriver.remote.webelement.WebElement (session=\"3adbd974d8379b7c88efde987e14417e\", element=\"c2fe9fc8-a64f-45d8-aa56-8f6cecac1880\")>\n",
    "210 円\n",
    "-------------------------------\n",
    "\"\"\""
   ]
  }
 ],
 "metadata": {
  "kernelspec": {
   "display_name": "Python 3.9.12 ('py39')",
   "language": "python",
   "name": "python3"
  },
  "language_info": {
   "codemirror_mode": {
    "name": "ipython",
    "version": 3
   },
   "file_extension": ".py",
   "mimetype": "text/x-python",
   "name": "python",
   "nbconvert_exporter": "python",
   "pygments_lexer": "ipython3",
   "version": "3.9.12"
  },
  "orig_nbformat": 4,
  "vscode": {
   "interpreter": {
    "hash": "4e7e9f53a7e16853fec103b312bead0c8fac62e8daa5be37d711e7d09c796e8b"
   }
  }
 },
 "nbformat": 4,
 "nbformat_minor": 2
}
